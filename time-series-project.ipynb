{
 "cells": [
  {
   "cell_type": "markdown",
   "metadata": {},
   "source": [
    "\n",
    "# time-series-project\n",
    "\n",
    "1. Install yahoo finance library (yfinance)\n",
    "2. Retrieve stock price data\n",
    "3. Choose any ticker symbol and you can choose “Open” or “Close” price for this project<sup>[1](#myfootnote1)</sup> <sup>[2](#myfootnote2)</sup>\n",
    "4. Analyse time series<sup>[3](#myfootnote3)</sup>\n",
    "5. Check for seasonality\n",
    "6. Train time series model\n",
    "7. Find the best hyperparameter values of (P, D, Q) with the smallest RMSE for building an ARIMA model<sup>[4](#myfootnote4)</sup>\n",
    "8. Predict price for the next time period (Maybe two Timestamps)\n",
    "9. Save timestamp, prediction and actual price to a database\n",
    "\n",
    "❗ BONUS: Deploy your model to Streamlit.  \n",
    "a. The app should pull fresh data from the web through yfinance  \n",
    "b. The user should be able to define a forecasting window (how far ahead they want the forecast)  \n",
    "\n",
    "❗❗ Extra Super Hard BONUS!! Allow the user to choose the ticker symbol to look up and get predictions for.   \n",
    "HINT: you'll need to refit the model. This may be hard without determining again the P, D, and Q\n",
    "\n",
    "<a name=\"myfootnote1\">1</a>: The program should only run between 8am and 4pm ET  \n",
    "<a name=\"myfootnote2\">2</a>: The data period and interval should be 1 year and 1 hour respectively  \n",
    "<a name=\"myfootnote3\">3</a>: Choose the last 50 records as your test data for the purpose of saving time  \n",
    "<a name=\"myfootnote4\">4</a>: Please set the hyperparameter values of (P, D, Q) within these ranges also for the purpose of saving time: For “P”: 1 ≦ P ≦ 3 For “D”: 0 ≦ D ≦ 2 For “Q”: 0 ≦ Q ≦ 2\n"
   ]
  },
  {
   "cell_type": "code",
   "execution_count": 28,
   "metadata": {},
   "outputs": [],
   "source": [
    "# Base Imports\n",
    "\n",
    "import matplotlib.pyplot as plt\n",
    "\n",
    "%matplotlib inline\n",
    "%config InlineBackend.figure_formats='retina'\n",
    "\n",
    "plt.style.use(\"ggplot\")\n",
    "\n",
    "import numpy as np\n",
    "import pandas as pd\n",
    "\n",
    "import warnings\n",
    "\n",
    "from statsmodels.graphics.tsaplots import plot_acf, plot_pacf\n",
    "from statsmodels.tools.sm_exceptions import InterpolationWarning\n",
    "\n",
    "warnings.simplefilter(action='ignore', category=FutureWarning)\n",
    "warnings.simplefilter(\"ignore\", InterpolationWarning)\n",
    "\n",
    "from sklearn.preprocessing import power_transform\n",
    "from sklearn import set_config\n",
    "\n",
    "set_config(transform_output=\"pandas\")\n",
    "\n",
    "\n",
    "# ADF test is used to determine the presence of unit root in the series, and hence helps in understand if the series is stationary or not. The null and alternate hypothesis of this test are:\n",
    "# Null Hypothesis: The series has a unit root.\n",
    "# Alternate Hypothesis: The series has no unit root.\n",
    "# If the null hypothesis fails to be rejected, this test may provide evidence that the series is non-stationary.\n",
    "def adf_test(timeseries, autolag=\"AIC\"):\n",
    "    from statsmodels.tsa.stattools import adfuller\n",
    "\n",
    "    # \"AIC\" (Akaike Information Criterion):\n",
    "    # This option selects the lag length that minimizes the AIC.\n",
    "    # The AIC is a measure that balances the goodness of fit of a statistical model with its complexity.\n",
    "    # Lower AIC values generally indicate a better model.\n",
    "    # \"BIC\" (Bayesian Information Criterion):\n",
    "    # Similar to AIC, this option chooses the lag length that minimizes the BIC.\n",
    "    # The BIC also balances model fit and complexity, but it tends to penalize complex models more heavily than the AIC.\n",
    "    # \"t-stat\" (t-statistic):\n",
    "    # This method starts with the maximum lag length (maxlag) and iteratively reduces it.\n",
    "    # It stops when the t-statistic of the last lag becomes statistically significant (typically at a 5% significance level).\n",
    "    # This approach focuses on the statistical significance of the individual lags.\n",
    "    dftest = adfuller(\n",
    "        timeseries.dropna(), \n",
    "        autolag=autolag, )\n",
    "    dfoutput = pd.Series(\n",
    "        dftest[0:4],\n",
    "        index=[\n",
    "            \"Test Statistic\",\n",
    "            \"p-value\",\n",
    "            \"#Lags Used\",\n",
    "            \"Number of Observations Used\",\n",
    "        ],\n",
    "    )\n",
    "    for key, value in dftest[4].items():\n",
    "        dfoutput[\"Critical Value (%s)\" % key] = value\n",
    "\n",
    "    dfoutput[autolag] = dftest[5]\n",
    "\n",
    "    dfoutput.name = \"Results of Dickey-Fuller Test\"\n",
    "\n",
    "    if (dftest[1] < 0.05) & (dftest[4][\"5%\"] > dftest[0]):\n",
    "        print(\n",
    "            \"\\u001b[32mConclusion: The data is stationary (Reject the null hypothesis)\\u001b[0m\"\n",
    "        )\n",
    "    else:\n",
    "        print(\n",
    "            \"\\x1b[31mConclusion: The data is not stationary (Fail to reject the null hypothesis)\\x1b[0m\"\n",
    "        )\n",
    "    return dfoutput\n",
    "\n",
    "\n",
    "# KPSS is another test for checking the stationarity of a time series. The null and alternate hypothesis for the KPSS test are opposite that of the ADF test.\n",
    "# Null Hypothesis: The process is trend stationary.\n",
    "# Alternate Hypothesis: The series has a unit root (series is not stationary).\n",
    "def kpss_test(timeseries, regression=\"c\"):\n",
    "    from statsmodels.tsa.stattools import kpss\n",
    "\n",
    "    kpsstest = kpss(timeseries.dropna(), regression=regression, nlags=\"auto\")\n",
    "    kpssoutput = pd.Series(\n",
    "        kpsstest[0:3], index=[\"Test Statistic\", \"p-value\", \"Lags Used\"]\n",
    "    )\n",
    "    for key, value in kpsstest[3].items():\n",
    "        kpssoutput[\"Critical Value (%s)\" % key] = value\n",
    "\n",
    "    kpssoutput.name = \"Results of KPSS Test\"\n",
    "\n",
    "    if (kpsstest[1] < 0.05) & (kpsstest[3][\"5%\"] > kpsstest[0]):\n",
    "        print(\n",
    "            \"\\x1b[31mConclusion: The data is not stationary (Reject the null hypothesis)\\x1b[0m\"\n",
    "        )\n",
    "\n",
    "    else:\n",
    "        print(\n",
    "            \"\\u001b[32mConclusion: The data is stationary (Fail to reject the null hypothesis)\\u001b[0m\"\n",
    "        )\n",
    "\n",
    "    return kpssoutput\n",
    "\n",
    "\n",
    "def add_stl_plot(fig, res, legend):\n",
    "    \"\"\"Add 3 plots from a second STL fit\"\"\"\n",
    "    axs = fig.get_axes()\n",
    "    comps = [\"trend\", \"seasonal\", \"resid\"]\n",
    "    for ax, comp in zip(axs[1:], comps):\n",
    "        series = getattr(res, comp)\n",
    "        if comp == \"resid\":\n",
    "            ax.plot(series, marker=\"o\", linestyle=\"none\")\n",
    "        else:\n",
    "            ax.plot(series)\n",
    "            if comp == \"trend\":\n",
    "                ax.legend(legend, frameon=False)\n"
   ]
  },
  {
   "cell_type": "code",
   "execution_count": 29,
   "metadata": {},
   "outputs": [],
   "source": [
    "# Install yahoo finance library (yfinance)\n",
    "# %conda install yfinance\n",
    "\n",
    "import yfinance as yf\n",
    "\n",
    "# # Now you can use yfinance functions\n",
    "# dat = yf.Ticker(\"MSFT\")\n",
    "# dat.info\n",
    "# dat.calendar\n",
    "# dat.analyst_price_targets\n",
    "# dat.quarterly_income_stmt\n",
    "# dat.history(period='1mo')\n",
    "# dat.option_chain(dat.options[0]).calls"
   ]
  },
  {
   "cell_type": "markdown",
   "metadata": {},
   "source": [
    "# Choose stock"
   ]
  },
  {
   "cell_type": "code",
   "execution_count": 30,
   "metadata": {},
   "outputs": [
    {
     "name": "stderr",
     "output_type": "stream",
     "text": [
      "[*********************100%***********************]  1 of 1 completed\n"
     ]
    },
    {
     "data": {
      "text/html": [
       "<div>\n",
       "<style scoped>\n",
       "    .dataframe tbody tr th:only-of-type {\n",
       "        vertical-align: middle;\n",
       "    }\n",
       "\n",
       "    .dataframe tbody tr th {\n",
       "        vertical-align: top;\n",
       "    }\n",
       "\n",
       "    .dataframe thead th {\n",
       "        text-align: right;\n",
       "    }\n",
       "</style>\n",
       "<table border=\"1\" class=\"dataframe\">\n",
       "  <thead>\n",
       "    <tr style=\"text-align: right;\">\n",
       "      <th></th>\n",
       "      <th>Close</th>\n",
       "      <th>High</th>\n",
       "      <th>Low</th>\n",
       "      <th>Open</th>\n",
       "      <th>Volume</th>\n",
       "    </tr>\n",
       "    <tr>\n",
       "      <th>Datetime</th>\n",
       "      <th></th>\n",
       "      <th></th>\n",
       "      <th></th>\n",
       "      <th></th>\n",
       "      <th></th>\n",
       "    </tr>\n",
       "  </thead>\n",
       "  <tbody>\n",
       "    <tr>\n",
       "      <th>2024-04-08 13:30:00+00:00</th>\n",
       "      <td>168.820007</td>\n",
       "      <td>169.190002</td>\n",
       "      <td>168.240005</td>\n",
       "      <td>169.059998</td>\n",
       "      <td>8279940</td>\n",
       "    </tr>\n",
       "    <tr>\n",
       "      <th>2024-04-08 14:30:00+00:00</th>\n",
       "      <td>168.815002</td>\n",
       "      <td>169.130005</td>\n",
       "      <td>168.649994</td>\n",
       "      <td>168.824997</td>\n",
       "      <td>4718366</td>\n",
       "    </tr>\n",
       "    <tr>\n",
       "      <th>2024-04-08 15:30:00+00:00</th>\n",
       "      <td>168.412399</td>\n",
       "      <td>168.815002</td>\n",
       "      <td>168.264999</td>\n",
       "      <td>168.815002</td>\n",
       "      <td>4134102</td>\n",
       "    </tr>\n",
       "    <tr>\n",
       "      <th>2024-04-08 16:30:00+00:00</th>\n",
       "      <td>168.645004</td>\n",
       "      <td>168.835007</td>\n",
       "      <td>168.404999</td>\n",
       "      <td>168.414993</td>\n",
       "      <td>2982857</td>\n",
       "    </tr>\n",
       "    <tr>\n",
       "      <th>2024-04-08 17:30:00+00:00</th>\n",
       "      <td>168.790100</td>\n",
       "      <td>168.899994</td>\n",
       "      <td>168.470001</td>\n",
       "      <td>168.645004</td>\n",
       "      <td>2336490</td>\n",
       "    </tr>\n",
       "    <tr>\n",
       "      <th>2024-04-08 18:30:00+00:00</th>\n",
       "      <td>168.785004</td>\n",
       "      <td>168.799896</td>\n",
       "      <td>168.544998</td>\n",
       "      <td>168.794998</td>\n",
       "      <td>2798561</td>\n",
       "    </tr>\n",
       "    <tr>\n",
       "      <th>2024-04-08 19:30:00+00:00</th>\n",
       "      <td>168.460007</td>\n",
       "      <td>168.960007</td>\n",
       "      <td>168.324997</td>\n",
       "      <td>168.785004</td>\n",
       "      <td>4991117</td>\n",
       "    </tr>\n",
       "    <tr>\n",
       "      <th>2024-04-09 13:30:00+00:00</th>\n",
       "      <td>169.470001</td>\n",
       "      <td>170.074997</td>\n",
       "      <td>168.500000</td>\n",
       "      <td>168.692001</td>\n",
       "      <td>9892473</td>\n",
       "    </tr>\n",
       "    <tr>\n",
       "      <th>2024-04-09 14:30:00+00:00</th>\n",
       "      <td>168.695007</td>\n",
       "      <td>169.490005</td>\n",
       "      <td>168.479996</td>\n",
       "      <td>169.475006</td>\n",
       "      <td>5975622</td>\n",
       "    </tr>\n",
       "    <tr>\n",
       "      <th>2024-04-09 15:30:00+00:00</th>\n",
       "      <td>169.070007</td>\n",
       "      <td>169.160004</td>\n",
       "      <td>168.690002</td>\n",
       "      <td>168.699997</td>\n",
       "      <td>3680884</td>\n",
       "    </tr>\n",
       "    <tr>\n",
       "      <th>2024-04-09 16:30:00+00:00</th>\n",
       "      <td>169.259995</td>\n",
       "      <td>169.559998</td>\n",
       "      <td>168.899994</td>\n",
       "      <td>169.070007</td>\n",
       "      <td>3462971</td>\n",
       "    </tr>\n",
       "    <tr>\n",
       "      <th>2024-04-09 17:30:00+00:00</th>\n",
       "      <td>168.585007</td>\n",
       "      <td>169.500000</td>\n",
       "      <td>168.500000</td>\n",
       "      <td>169.270004</td>\n",
       "      <td>4167688</td>\n",
       "    </tr>\n",
       "    <tr>\n",
       "      <th>2024-04-09 18:30:00+00:00</th>\n",
       "      <td>169.252502</td>\n",
       "      <td>169.259995</td>\n",
       "      <td>168.350006</td>\n",
       "      <td>168.580002</td>\n",
       "      <td>4206061</td>\n",
       "    </tr>\n",
       "    <tr>\n",
       "      <th>2024-04-09 19:30:00+00:00</th>\n",
       "      <td>169.690002</td>\n",
       "      <td>169.729996</td>\n",
       "      <td>168.940002</td>\n",
       "      <td>169.259995</td>\n",
       "      <td>5472554</td>\n",
       "    </tr>\n",
       "    <tr>\n",
       "      <th>2024-04-10 13:30:00+00:00</th>\n",
       "      <td>168.029999</td>\n",
       "      <td>169.089996</td>\n",
       "      <td>167.110001</td>\n",
       "      <td>168.839996</td>\n",
       "      <td>14120359</td>\n",
       "    </tr>\n",
       "    <tr>\n",
       "      <th>2024-04-10 14:30:00+00:00</th>\n",
       "      <td>167.914993</td>\n",
       "      <td>168.699997</td>\n",
       "      <td>167.610001</td>\n",
       "      <td>168.044006</td>\n",
       "      <td>5526659</td>\n",
       "    </tr>\n",
       "    <tr>\n",
       "      <th>2024-04-10 15:30:00+00:00</th>\n",
       "      <td>168.014999</td>\n",
       "      <td>168.110001</td>\n",
       "      <td>167.539993</td>\n",
       "      <td>167.940002</td>\n",
       "      <td>4681455</td>\n",
       "    </tr>\n",
       "    <tr>\n",
       "      <th>2024-04-10 16:30:00+00:00</th>\n",
       "      <td>168.134995</td>\n",
       "      <td>168.600006</td>\n",
       "      <td>167.679993</td>\n",
       "      <td>168.037003</td>\n",
       "      <td>4311563</td>\n",
       "    </tr>\n",
       "    <tr>\n",
       "      <th>2024-04-10 17:30:00+00:00</th>\n",
       "      <td>167.759995</td>\n",
       "      <td>168.580002</td>\n",
       "      <td>167.630005</td>\n",
       "      <td>168.121002</td>\n",
       "      <td>4513653</td>\n",
       "    </tr>\n",
       "    <tr>\n",
       "      <th>2024-04-10 18:30:00+00:00</th>\n",
       "      <td>168.259995</td>\n",
       "      <td>169.669998</td>\n",
       "      <td>167.690002</td>\n",
       "      <td>167.764999</td>\n",
       "      <td>4221664</td>\n",
       "    </tr>\n",
       "    <tr>\n",
       "      <th>2024-04-10 19:30:00+00:00</th>\n",
       "      <td>167.750000</td>\n",
       "      <td>168.684998</td>\n",
       "      <td>167.699997</td>\n",
       "      <td>168.259995</td>\n",
       "      <td>5084905</td>\n",
       "    </tr>\n",
       "    <tr>\n",
       "      <th>2024-04-11 13:30:00+00:00</th>\n",
       "      <td>168.720001</td>\n",
       "      <td>169.169998</td>\n",
       "      <td>168.160095</td>\n",
       "      <td>168.250000</td>\n",
       "      <td>9488061</td>\n",
       "    </tr>\n",
       "    <tr>\n",
       "      <th>2024-04-11 14:30:00+00:00</th>\n",
       "      <td>169.000000</td>\n",
       "      <td>169.419998</td>\n",
       "      <td>168.570007</td>\n",
       "      <td>168.729996</td>\n",
       "      <td>7020839</td>\n",
       "    </tr>\n",
       "    <tr>\n",
       "      <th>2024-04-11 15:30:00+00:00</th>\n",
       "      <td>169.910004</td>\n",
       "      <td>170.289993</td>\n",
       "      <td>169.000000</td>\n",
       "      <td>169.001099</td>\n",
       "      <td>5616006</td>\n",
       "    </tr>\n",
       "    <tr>\n",
       "      <th>2024-04-11 16:30:00+00:00</th>\n",
       "      <td>172.104996</td>\n",
       "      <td>172.190002</td>\n",
       "      <td>169.839996</td>\n",
       "      <td>169.919998</td>\n",
       "      <td>9777671</td>\n",
       "    </tr>\n",
       "    <tr>\n",
       "      <th>2024-04-11 17:30:00+00:00</th>\n",
       "      <td>174.179993</td>\n",
       "      <td>174.479996</td>\n",
       "      <td>171.960098</td>\n",
       "      <td>172.110001</td>\n",
       "      <td>15507718</td>\n",
       "    </tr>\n",
       "    <tr>\n",
       "      <th>2024-04-11 18:30:00+00:00</th>\n",
       "      <td>174.739899</td>\n",
       "      <td>174.860001</td>\n",
       "      <td>173.550003</td>\n",
       "      <td>174.179993</td>\n",
       "      <td>15407602</td>\n",
       "    </tr>\n",
       "    <tr>\n",
       "      <th>2024-04-11 19:30:00+00:00</th>\n",
       "      <td>175.039993</td>\n",
       "      <td>175.460007</td>\n",
       "      <td>174.619995</td>\n",
       "      <td>174.740005</td>\n",
       "      <td>15008834</td>\n",
       "    </tr>\n",
       "    <tr>\n",
       "      <th>2024-04-12 13:30:00+00:00</th>\n",
       "      <td>176.750000</td>\n",
       "      <td>178.360001</td>\n",
       "      <td>174.210007</td>\n",
       "      <td>174.285004</td>\n",
       "      <td>35055623</td>\n",
       "    </tr>\n",
       "    <tr>\n",
       "      <th>2024-04-12 14:30:00+00:00</th>\n",
       "      <td>176.254303</td>\n",
       "      <td>176.809998</td>\n",
       "      <td>175.320007</td>\n",
       "      <td>176.742493</td>\n",
       "      <td>12592011</td>\n",
       "    </tr>\n",
       "    <tr>\n",
       "      <th>2024-04-12 15:30:00+00:00</th>\n",
       "      <td>175.589996</td>\n",
       "      <td>176.990005</td>\n",
       "      <td>175.565002</td>\n",
       "      <td>176.259995</td>\n",
       "      <td>8240618</td>\n",
       "    </tr>\n",
       "    <tr>\n",
       "      <th>2024-04-12 16:30:00+00:00</th>\n",
       "      <td>175.350006</td>\n",
       "      <td>175.660004</td>\n",
       "      <td>174.800003</td>\n",
       "      <td>175.595001</td>\n",
       "      <td>8466020</td>\n",
       "    </tr>\n",
       "    <tr>\n",
       "      <th>2024-04-12 17:30:00+00:00</th>\n",
       "      <td>175.970001</td>\n",
       "      <td>176.000000</td>\n",
       "      <td>175.235001</td>\n",
       "      <td>175.339996</td>\n",
       "      <td>6848567</td>\n",
       "    </tr>\n",
       "    <tr>\n",
       "      <th>2024-04-12 18:30:00+00:00</th>\n",
       "      <td>176.017502</td>\n",
       "      <td>176.259995</td>\n",
       "      <td>175.630005</td>\n",
       "      <td>175.970001</td>\n",
       "      <td>8125126</td>\n",
       "    </tr>\n",
       "    <tr>\n",
       "      <th>2024-04-12 19:30:00+00:00</th>\n",
       "      <td>176.565002</td>\n",
       "      <td>176.740005</td>\n",
       "      <td>175.955002</td>\n",
       "      <td>176.014999</td>\n",
       "      <td>10614487</td>\n",
       "    </tr>\n",
       "  </tbody>\n",
       "</table>\n",
       "</div>"
      ],
      "text/plain": [
       "                                Close        High         Low        Open  \\\n",
       "Datetime                                                                    \n",
       "2024-04-08 13:30:00+00:00  168.820007  169.190002  168.240005  169.059998   \n",
       "2024-04-08 14:30:00+00:00  168.815002  169.130005  168.649994  168.824997   \n",
       "2024-04-08 15:30:00+00:00  168.412399  168.815002  168.264999  168.815002   \n",
       "2024-04-08 16:30:00+00:00  168.645004  168.835007  168.404999  168.414993   \n",
       "2024-04-08 17:30:00+00:00  168.790100  168.899994  168.470001  168.645004   \n",
       "2024-04-08 18:30:00+00:00  168.785004  168.799896  168.544998  168.794998   \n",
       "2024-04-08 19:30:00+00:00  168.460007  168.960007  168.324997  168.785004   \n",
       "2024-04-09 13:30:00+00:00  169.470001  170.074997  168.500000  168.692001   \n",
       "2024-04-09 14:30:00+00:00  168.695007  169.490005  168.479996  169.475006   \n",
       "2024-04-09 15:30:00+00:00  169.070007  169.160004  168.690002  168.699997   \n",
       "2024-04-09 16:30:00+00:00  169.259995  169.559998  168.899994  169.070007   \n",
       "2024-04-09 17:30:00+00:00  168.585007  169.500000  168.500000  169.270004   \n",
       "2024-04-09 18:30:00+00:00  169.252502  169.259995  168.350006  168.580002   \n",
       "2024-04-09 19:30:00+00:00  169.690002  169.729996  168.940002  169.259995   \n",
       "2024-04-10 13:30:00+00:00  168.029999  169.089996  167.110001  168.839996   \n",
       "2024-04-10 14:30:00+00:00  167.914993  168.699997  167.610001  168.044006   \n",
       "2024-04-10 15:30:00+00:00  168.014999  168.110001  167.539993  167.940002   \n",
       "2024-04-10 16:30:00+00:00  168.134995  168.600006  167.679993  168.037003   \n",
       "2024-04-10 17:30:00+00:00  167.759995  168.580002  167.630005  168.121002   \n",
       "2024-04-10 18:30:00+00:00  168.259995  169.669998  167.690002  167.764999   \n",
       "2024-04-10 19:30:00+00:00  167.750000  168.684998  167.699997  168.259995   \n",
       "2024-04-11 13:30:00+00:00  168.720001  169.169998  168.160095  168.250000   \n",
       "2024-04-11 14:30:00+00:00  169.000000  169.419998  168.570007  168.729996   \n",
       "2024-04-11 15:30:00+00:00  169.910004  170.289993  169.000000  169.001099   \n",
       "2024-04-11 16:30:00+00:00  172.104996  172.190002  169.839996  169.919998   \n",
       "2024-04-11 17:30:00+00:00  174.179993  174.479996  171.960098  172.110001   \n",
       "2024-04-11 18:30:00+00:00  174.739899  174.860001  173.550003  174.179993   \n",
       "2024-04-11 19:30:00+00:00  175.039993  175.460007  174.619995  174.740005   \n",
       "2024-04-12 13:30:00+00:00  176.750000  178.360001  174.210007  174.285004   \n",
       "2024-04-12 14:30:00+00:00  176.254303  176.809998  175.320007  176.742493   \n",
       "2024-04-12 15:30:00+00:00  175.589996  176.990005  175.565002  176.259995   \n",
       "2024-04-12 16:30:00+00:00  175.350006  175.660004  174.800003  175.595001   \n",
       "2024-04-12 17:30:00+00:00  175.970001  176.000000  175.235001  175.339996   \n",
       "2024-04-12 18:30:00+00:00  176.017502  176.259995  175.630005  175.970001   \n",
       "2024-04-12 19:30:00+00:00  176.565002  176.740005  175.955002  176.014999   \n",
       "\n",
       "                             Volume  \n",
       "Datetime                             \n",
       "2024-04-08 13:30:00+00:00   8279940  \n",
       "2024-04-08 14:30:00+00:00   4718366  \n",
       "2024-04-08 15:30:00+00:00   4134102  \n",
       "2024-04-08 16:30:00+00:00   2982857  \n",
       "2024-04-08 17:30:00+00:00   2336490  \n",
       "2024-04-08 18:30:00+00:00   2798561  \n",
       "2024-04-08 19:30:00+00:00   4991117  \n",
       "2024-04-09 13:30:00+00:00   9892473  \n",
       "2024-04-09 14:30:00+00:00   5975622  \n",
       "2024-04-09 15:30:00+00:00   3680884  \n",
       "2024-04-09 16:30:00+00:00   3462971  \n",
       "2024-04-09 17:30:00+00:00   4167688  \n",
       "2024-04-09 18:30:00+00:00   4206061  \n",
       "2024-04-09 19:30:00+00:00   5472554  \n",
       "2024-04-10 13:30:00+00:00  14120359  \n",
       "2024-04-10 14:30:00+00:00   5526659  \n",
       "2024-04-10 15:30:00+00:00   4681455  \n",
       "2024-04-10 16:30:00+00:00   4311563  \n",
       "2024-04-10 17:30:00+00:00   4513653  \n",
       "2024-04-10 18:30:00+00:00   4221664  \n",
       "2024-04-10 19:30:00+00:00   5084905  \n",
       "2024-04-11 13:30:00+00:00   9488061  \n",
       "2024-04-11 14:30:00+00:00   7020839  \n",
       "2024-04-11 15:30:00+00:00   5616006  \n",
       "2024-04-11 16:30:00+00:00   9777671  \n",
       "2024-04-11 17:30:00+00:00  15507718  \n",
       "2024-04-11 18:30:00+00:00  15407602  \n",
       "2024-04-11 19:30:00+00:00  15008834  \n",
       "2024-04-12 13:30:00+00:00  35055623  \n",
       "2024-04-12 14:30:00+00:00  12592011  \n",
       "2024-04-12 15:30:00+00:00   8240618  \n",
       "2024-04-12 16:30:00+00:00   8466020  \n",
       "2024-04-12 17:30:00+00:00   6848567  \n",
       "2024-04-12 18:30:00+00:00   8125126  \n",
       "2024-04-12 19:30:00+00:00  10614487  "
      ]
     },
     "execution_count": 30,
     "metadata": {},
     "output_type": "execute_result"
    }
   ],
   "source": [
    "# Retrieve stock price data\n",
    "# Choose any ticker symbol and you can choose “Open” or “Close” price for this project\n",
    "\n",
    "# hoping to build model for\n",
    "# tickers = ['AAPL', 'MSFT', 'GOOGL', 'AMZN', 'JNJ', 'XOM', 'V', 'WMT', 'NVDA', 'PG',\n",
    "#             'LLY', 'CVX', 'MA', 'HD', 'PFE', 'ABBV', 'MRK', 'KO', 'PEP', 'AVGO', 'ORCL',\n",
    "#             'TMO', 'AZN', 'CSCO', 'DHR', 'MCD', 'ABT', 'TMUS', 'ACN', 'NEE', 'VZ', 'TTE',\n",
    "#             'LIN', 'DIS', 'PM', 'BMY', 'CMCSA', 'SCHW', 'UPS', 'TXN', 'RTX', 'COP']\n",
    "# will start with 'AAPl'\n",
    "\n",
    "\n",
    "from datetime import datetime\n",
    "\n",
    "# 1. Define the ticker and date range\n",
    "tickers = [\"AAPL\"]\n",
    "end_date = datetime.today().strftime('%Y-%m-%d')\n",
    "\n",
    "start_date = (pd.to_datetime(end_date) - pd.DateOffset(years=1)).strftime('%Y-%m-%d')  # 1 year before\n",
    "\n",
    "# 2. Download data from yfinance\n",
    "yf_dl = yf.download(\n",
    "    tickers,\n",
    "    start=start_date,\n",
    "    end=end_date,\n",
    "    actions=False,\n",
    "    threads=True,\n",
    "    ignore_tz=None,\n",
    "    group_by=\"column\",\n",
    "    auto_adjust=True,\n",
    "    back_adjust=False,\n",
    "    repair=False,\n",
    "    keepna=False,\n",
    "    progress=True,\n",
    "    # period=\"1y\",\n",
    "    interval=\"1h\",\n",
    "    prepost=False,\n",
    "    proxy=None,\n",
    "    rounding=False,\n",
    "    timeout=10,\n",
    "    session=None,\n",
    "    multi_level_index=False,\n",
    ")\n",
    "\n",
    "yf_dl.head(35)"
   ]
  },
  {
   "cell_type": "code",
   "execution_count": 31,
   "metadata": {},
   "outputs": [],
   "source": [
    "# # Analyse time series\n",
    "\n",
    "# from pandas.tseries.offsets import Minute, BusinessHour\n",
    "# fifteen_min = Minute(n=15)\n",
    "\n",
    "# # yf_dl = yf_dl.resample(BusinessHour) # resample by business hour\n",
    "# yf_dl.index.freq = BusinessHour\n",
    "# yf_dl.head(24)"
   ]
  },
  {
   "cell_type": "code",
   "execution_count": 32,
   "metadata": {},
   "outputs": [
    {
     "data": {
      "text/plain": [
       "Datetime\n",
       "2024-04-08 13:30:00+00:00    168.820007\n",
       "2024-04-08 14:30:00+00:00    168.815002\n",
       "2024-04-08 15:30:00+00:00    168.412399\n",
       "2024-04-08 16:30:00+00:00    168.645004\n",
       "2024-04-08 17:30:00+00:00    168.790100\n",
       "                                ...    \n",
       "2025-04-04 15:30:00+00:00    192.809998\n",
       "2025-04-04 16:30:00+00:00    190.990005\n",
       "2025-04-04 17:30:00+00:00    188.880005\n",
       "2025-04-04 18:30:00+00:00    190.229996\n",
       "2025-04-04 19:30:00+00:00    188.380005\n",
       "Name: Close, Length: 1738, dtype: float64"
      ]
     },
     "execution_count": 32,
     "metadata": {},
     "output_type": "execute_result"
    }
   ],
   "source": [
    "timeseries = yf_dl[\"Close\"]\n",
    "timeseries"
   ]
  },
  {
   "cell_type": "code",
   "execution_count": 33,
   "metadata": {},
   "outputs": [
    {
     "data": {
      "text/plain": [
       "array([1738.])"
      ]
     },
     "execution_count": 33,
     "metadata": {},
     "output_type": "execute_result"
    }
   ],
   "source": [
    "from scipy.signal import periodogram, find_peaks\n",
    "\n",
    "# Compute power spectrum\n",
    "frequencies, power = periodogram(timeseries.dropna())\n",
    "# Find peaks in the power spectrum\n",
    "peaks, _ = find_peaks(power, height=0.1 * max(power))  # Tune height threshold\n",
    "# Convert frequency to period\n",
    "periods = 1 / frequencies[peaks]\n",
    "\n",
    "periods"
   ]
  },
  {
   "cell_type": "code",
   "execution_count": 34,
   "metadata": {},
   "outputs": [
    {
     "name": "stdout",
     "output_type": "stream",
     "text": [
      "\u001b[31mConclusion: The data is not stationary (Fail to reject the null hypothesis)\u001b[0m\n"
     ]
    },
    {
     "data": {
      "text/plain": [
       "Test Statistic                   -2.061815\n",
       "p-value                           0.260144\n",
       "#Lags Used                        7.000000\n",
       "Number of Observations Used    1730.000000\n",
       "Critical Value (1%)              -3.434136\n",
       "Critical Value (5%)              -2.863212\n",
       "Critical Value (10%)             -2.567660\n",
       "AIC                            6137.987214\n",
       "Name: Results of Dickey-Fuller Test, dtype: float64"
      ]
     },
     "execution_count": 34,
     "metadata": {},
     "output_type": "execute_result"
    }
   ],
   "source": [
    "adf_test(timeseries).round(6)"
   ]
  },
  {
   "cell_type": "code",
   "execution_count": 35,
   "metadata": {},
   "outputs": [
    {
     "name": "stdout",
     "output_type": "stream",
     "text": [
      "\u001b[32mConclusion: The data is stationary (Fail to reject the null hypothesis)\u001b[0m\n"
     ]
    },
    {
     "data": {
      "text/plain": [
       "Test Statistic            3.881619\n",
       "p-value                   0.010000\n",
       "Lags Used                26.000000\n",
       "Critical Value (10%)      0.347000\n",
       "Critical Value (5%)       0.463000\n",
       "Critical Value (2.5%)     0.574000\n",
       "Critical Value (1%)       0.739000\n",
       "Name: Results of KPSS Test, dtype: float64"
      ]
     },
     "execution_count": 35,
     "metadata": {},
     "output_type": "execute_result"
    }
   ],
   "source": [
    "kpss_test(timeseries)"
   ]
  },
  {
   "cell_type": "code",
   "execution_count": 36,
   "metadata": {},
   "outputs": [
    {
     "name": "stdout",
     "output_type": "stream",
     "text": [
      "\u001b[31mConclusion: The data is not stationary (Fail to reject the null hypothesis)\u001b[0m\n"
     ]
    }
   ],
   "source": [
    "adf_lags_used = adf_test(timeseries).iloc[2] # lags used by ADF test\n",
    "adf_lags_used += 1 # need to add lag 0 to complete the period\n",
    "period = adf_lags_used.astype(int) # convert to int\n",
    "\n",
    "if period < 7:\n",
    "    period = 35\n",
    "else:\n",
    "    period = period"
   ]
  },
  {
   "cell_type": "code",
   "execution_count": 37,
   "metadata": {},
   "outputs": [],
   "source": [
    "from statsmodels.tsa.seasonal import STL\n",
    "\n",
    "seasonal = period + ((period % 2) == 0)  # Ensure odd\n",
    "seasonal_jump = int(np.ceil(0.15 * (period + 1)))\n",
    "low_pass_jump = int(np.ceil(0.15 * (period + 1))) # must be a positive integer\n",
    "trend_jump = int(np.ceil(0.15 * 1.5 * (period + 1)))\n",
    "\n",
    "if low_pass_jump < 1:\n",
    "    low_pass_jump = 1\n",
    "else:\n",
    "    low_pass_jump = low_pass_jump\n",
    "\n",
    "if seasonal_jump < 1:\n",
    "    seasonal_jump = 1\n",
    "else:\n",
    "    seasonal_jump = seasonal_jump\n",
    "\n",
    "\n",
    "\n",
    "mod = STL(\n",
    "    timeseries,\n",
    "    period=period,\n",
    "    seasonal=seasonal,\n",
    "    seasonal_deg=1, \n",
    "    trend_deg=1, \n",
    "    low_pass_deg=1, \n",
    "    robust=True,\n",
    "    seasonal_jump=seasonal_jump,\n",
    "    trend_jump=trend_jump,\n",
    "    low_pass_jump=low_pass_jump,\n",
    ")"
   ]
  },
  {
   "cell_type": "code",
   "execution_count": 38,
   "metadata": {},
   "outputs": [],
   "source": [
    "# Import seasonal_decompose\n",
    "from statsmodels.tsa.seasonal import seasonal_decompose\n",
    "\n",
    "# Check for seasonality\n",
    "decomposition = seasonal_decompose(\n",
    "    timeseries.dropna(), \n",
    "    model=\"additive\", \n",
    "    filt=None, \n",
    "    period=period, \n",
    "    two_sided=False, \n",
    "    extrapolate_trend=\"freq\"\n",
    ")\n",
    "\n",
    "seasonals = decomposition.seasonal\n",
    "trends = decomposition.trend\n",
    "\n",
    "no_seasonal_trend = timeseries - trends\n",
    "\n",
    "timeseries_cleaned = no_seasonal_trend.clip(lower=0)\n",
    "\n",
    "# timeseries_cleaned.plot()\n",
    "# yf_dl.plot(y=\"Close\")\n",
    "# yf_dl.plot(y=\"Close_no_seasonal_trend\")\n",
    "# decomposition\n"
   ]
  },
  {
   "cell_type": "code",
   "execution_count": 39,
   "metadata": {},
   "outputs": [
    {
     "name": "stdout",
     "output_type": "stream",
     "text": [
      "\u001b[32mConclusion: The data is stationary (Reject the null hypothesis)\u001b[0m\n"
     ]
    },
    {
     "data": {
      "text/plain": [
       "Test Statistic                  -12.033341\n",
       "p-value                           0.000000\n",
       "#Lags Used                        7.000000\n",
       "Number of Observations Used    1730.000000\n",
       "Critical Value (1%)              -3.434136\n",
       "Critical Value (5%)              -2.863212\n",
       "Critical Value (10%)             -2.567660\n",
       "AIC                            4131.534016\n",
       "Name: Results of Dickey-Fuller Test, dtype: float64"
      ]
     },
     "execution_count": 39,
     "metadata": {},
     "output_type": "execute_result"
    }
   ],
   "source": [
    "adf_test(timeseries=timeseries_cleaned).round(6)"
   ]
  },
  {
   "cell_type": "code",
   "execution_count": 40,
   "metadata": {},
   "outputs": [
    {
     "name": "stdout",
     "output_type": "stream",
     "text": [
      "\u001b[32mConclusion: The data is stationary (Fail to reject the null hypothesis)\u001b[0m\n"
     ]
    },
    {
     "data": {
      "text/plain": [
       "Test Statistic            0.070996\n",
       "p-value                   0.100000\n",
       "Lags Used                20.000000\n",
       "Critical Value (10%)      0.347000\n",
       "Critical Value (5%)       0.463000\n",
       "Critical Value (2.5%)     0.574000\n",
       "Critical Value (1%)       0.739000\n",
       "Name: Results of KPSS Test, dtype: float64"
      ]
     },
     "execution_count": 40,
     "metadata": {},
     "output_type": "execute_result"
    }
   ],
   "source": [
    "kpss_test(timeseries=timeseries_cleaned)"
   ]
  },
  {
   "cell_type": "code",
   "execution_count": 41,
   "metadata": {},
   "outputs": [
    {
     "data": {
      "text/plain": [
       "Datetime\n",
       "2025-04-02 18:30:00+00:00    0.190092\n",
       "2025-04-02 19:30:00+00:00    0.056234\n",
       "2025-04-03 13:30:00+00:00    0.000000\n",
       "2025-04-03 14:30:00+00:00    0.000000\n",
       "2025-04-03 15:30:00+00:00    0.000000\n",
       "2025-04-03 16:30:00+00:00    0.000000\n",
       "2025-04-03 17:30:00+00:00    0.000000\n",
       "2025-04-03 18:30:00+00:00    0.000000\n",
       "dtype: float64"
      ]
     },
     "metadata": {},
     "output_type": "display_data"
    },
    {
     "name": "stdout",
     "output_type": "stream",
     "text": [
      "(1730,)\n"
     ]
    },
    {
     "data": {
      "text/plain": [
       "Datetime\n",
       "2025-04-03 19:30:00+00:00    0.0\n",
       "2025-04-04 13:30:00+00:00    0.0\n",
       "2025-04-04 14:30:00+00:00    0.0\n",
       "2025-04-04 15:30:00+00:00    0.0\n",
       "2025-04-04 16:30:00+00:00    0.0\n",
       "2025-04-04 17:30:00+00:00    0.0\n",
       "2025-04-04 18:30:00+00:00    0.0\n",
       "2025-04-04 19:30:00+00:00    0.0\n",
       "dtype: float64"
      ]
     },
     "metadata": {},
     "output_type": "display_data"
    },
    {
     "name": "stdout",
     "output_type": "stream",
     "text": [
      "(8,)\n"
     ]
    }
   ],
   "source": [
    "# Train time series model\n",
    "\n",
    "from statsmodels.tsa.arima.model import ARIMA\n",
    "from sklearn.model_selection import train_test_split\n",
    "\n",
    "train, test = train_test_split(\n",
    "    timeseries_cleaned, \n",
    "    test_size=period, \n",
    "    shuffle=False\n",
    ")\n",
    "display(train.tail(period))\n",
    "print(train.shape)\n",
    "display(test.head(period))\n",
    "print(test.shape)\n"
   ]
  },
  {
   "cell_type": "code",
   "execution_count": 42,
   "metadata": {},
   "outputs": [],
   "source": [
    "from statsmodels.tsa.stattools import acf, pacf\n",
    "\n",
    "\n",
    "pacf_values = pacf(\n",
    "    train, \n",
    "    nlags=None, \n",
    "    method=\"burg\"\n",
    "    )\n",
    "\n",
    "acf_values = acf(\n",
    "    train,\n",
    "    adjusted=False, \n",
    "    nlags=None,\n",
    "    qstat=False,\n",
    "    fft=True,\n",
    "    bartlett_confint=True,\n",
    "    missing=\"none\",\n",
    ")\n",
    "\n",
    "alpha = 0.05 # set our confidence at 5%\n",
    "# iterate to set p and q as we would graphically\n",
    "p = -1\n",
    "for val in pacf_values:\n",
    "    if np.abs(val) > alpha:\n",
    "        p += 1\n",
    "    else:\n",
    "        break\n",
    "if p > 0:\n",
    "    p = p\n",
    "else:\n",
    "    p = 0\n",
    "\n",
    "q = -1\n",
    "for val in acf_values:\n",
    "    if np.abs(val) > alpha:\n",
    "        q += 1\n",
    "    else:\n",
    "        break\n",
    "if q > 0:\n",
    "    q = q\n",
    "else:\n",
    "    q = 0"
   ]
  },
  {
   "cell_type": "code",
   "execution_count": 43,
   "metadata": {},
   "outputs": [
    {
     "name": "stderr",
     "output_type": "stream",
     "text": [
      "/opt/anaconda3/envs/datascience/lib/python3.12/site-packages/statsmodels/tsa/base/tsa_model.py:473: ValueWarning: A date index has been provided, but it has no associated frequency information and so will be ignored when e.g. forecasting.\n",
      "  self._init_dates(dates, freq)\n",
      "/opt/anaconda3/envs/datascience/lib/python3.12/site-packages/statsmodels/tsa/base/tsa_model.py:473: ValueWarning: A date index has been provided, but it has no associated frequency information and so will be ignored when e.g. forecasting.\n",
      "  self._init_dates(dates, freq)\n",
      "/opt/anaconda3/envs/datascience/lib/python3.12/site-packages/statsmodels/tsa/base/tsa_model.py:473: ValueWarning: A date index has been provided, but it has no associated frequency information and so will be ignored when e.g. forecasting.\n",
      "  self._init_dates(dates, freq)\n",
      "/opt/anaconda3/envs/datascience/lib/python3.12/site-packages/statsmodels/tsa/base/tsa_model.py:473: ValueWarning: A date index has been provided, but it has no associated frequency information and so will be ignored when e.g. forecasting.\n",
      "  self._init_dates(dates, freq)\n",
      "/opt/anaconda3/envs/datascience/lib/python3.12/site-packages/statsmodels/tsa/base/tsa_model.py:473: ValueWarning: A date index has been provided, but it has no associated frequency information and so will be ignored when e.g. forecasting.\n",
      "  self._init_dates(dates, freq)\n",
      "/opt/anaconda3/envs/datascience/lib/python3.12/site-packages/statsmodels/tsa/base/tsa_model.py:473: ValueWarning: A date index has been provided, but it has no associated frequency information and so will be ignored when e.g. forecasting.\n",
      "  self._init_dates(dates, freq)\n",
      "/opt/anaconda3/envs/datascience/lib/python3.12/site-packages/statsmodels/tsa/base/tsa_model.py:473: ValueWarning: A date index has been provided, but it has no associated frequency information and so will be ignored when e.g. forecasting.\n",
      "  self._init_dates(dates, freq)\n",
      "/opt/anaconda3/envs/datascience/lib/python3.12/site-packages/statsmodels/tsa/base/tsa_model.py:473: ValueWarning: A date index has been provided, but it has no associated frequency information and so will be ignored when e.g. forecasting.\n",
      "  self._init_dates(dates, freq)\n",
      "/opt/anaconda3/envs/datascience/lib/python3.12/site-packages/statsmodels/tsa/base/tsa_model.py:473: ValueWarning: A date index has been provided, but it has no associated frequency information and so will be ignored when e.g. forecasting.\n",
      "  self._init_dates(dates, freq)\n",
      "/opt/anaconda3/envs/datascience/lib/python3.12/site-packages/statsmodels/base/model.py:607: ConvergenceWarning: Maximum Likelihood optimization failed to converge. Check mle_retvals\n",
      "  warnings.warn(\"Maximum Likelihood optimization failed to \"\n",
      "/opt/anaconda3/envs/datascience/lib/python3.12/site-packages/statsmodels/base/model.py:607: ConvergenceWarning: Maximum Likelihood optimization failed to converge. Check mle_retvals\n",
      "  warnings.warn(\"Maximum Likelihood optimization failed to \"\n",
      "/opt/anaconda3/envs/datascience/lib/python3.12/site-packages/statsmodels/tsa/statespace/sarimax.py:978: UserWarning: Non-invertible starting MA parameters found. Using zeros as starting parameters.\n",
      "  warn('Non-invertible starting MA parameters found.'\n",
      "/opt/anaconda3/envs/datascience/lib/python3.12/site-packages/statsmodels/base/model.py:607: ConvergenceWarning: Maximum Likelihood optimization failed to converge. Check mle_retvals\n",
      "  warnings.warn(\"Maximum Likelihood optimization failed to \"\n"
     ]
    }
   ],
   "source": [
    "# Find the best hyperparameter values of (P, D, Q) with the smallest RMSE for building an ARIMA model\n",
    "# Please set the hyperparameter values of (P, D, Q) within these ranges also for the purpose of saving time:\n",
    "# For “P”: 1 ≦ P ≦ 3 For “D”: 0 ≦ D ≦ 2 For “Q”: 0 ≦ Q ≦ 2\n",
    "\n",
    "from sklearn.metrics import root_mean_squared_error\n",
    "from statsmodels.tsa.arima.model import ARIMA\n",
    "\n",
    "model_0 = ARIMA(\n",
    "    train,\n",
    "    exog=None,\n",
    "    order=(p, 0, q),\n",
    "    seasonal_order=(0, 0, 0, 0),\n",
    "    trend=\"n\",\n",
    "    enforce_stationarity=False,\n",
    "    enforce_invertibility=True,\n",
    "    concentrate_scale=False,\n",
    "    trend_offset=1,\n",
    "    dates=None,\n",
    "    freq=None,\n",
    "    missing=\"none\",\n",
    "    validate_specification=True,\n",
    ")\n",
    "\n",
    "model_1 = ARIMA(\n",
    "    train,\n",
    "    exog=None,\n",
    "    order=(p, 1, q),\n",
    "    seasonal_order=(0, 0, 0, 0),\n",
    "    trend=\"n\",\n",
    "    enforce_stationarity=False,\n",
    "    enforce_invertibility=True,\n",
    "    concentrate_scale=False,\n",
    "    trend_offset=1,\n",
    "    dates=None,\n",
    "    freq=None,\n",
    "    missing=\"none\",\n",
    "    validate_specification=True,\n",
    ")\n",
    "\n",
    "model_2 = ARIMA(\n",
    "    train,\n",
    "    exog=None,\n",
    "    order=(p, 2, q),\n",
    "    seasonal_order=(0, 0, 0, 0),\n",
    "    trend=\"n\",\n",
    "    enforce_stationarity=False,\n",
    "    enforce_invertibility=True,\n",
    "    concentrate_scale=False,\n",
    "    trend_offset=1,\n",
    "    dates=None,\n",
    "    freq=None,\n",
    "    missing=\"none\",\n",
    "    validate_specification=True,\n",
    ")\n",
    "\n",
    "fitted_model_0 = model_0.fit()\n",
    "fitted_model_1 = model_1.fit()\n",
    "fitted_model_2 = model_2.fit()"
   ]
  },
  {
   "cell_type": "code",
   "execution_count": 44,
   "metadata": {},
   "outputs": [
    {
     "name": "stderr",
     "output_type": "stream",
     "text": [
      "/opt/anaconda3/envs/datascience/lib/python3.12/site-packages/statsmodels/tsa/base/tsa_model.py:837: ValueWarning: No supported index is available. Prediction results will be given with an integer index beginning at `start`.\n",
      "  return get_prediction_index(\n",
      "/opt/anaconda3/envs/datascience/lib/python3.12/site-packages/statsmodels/tsa/base/tsa_model.py:837: ValueWarning: No supported index is available. Prediction results will be given with an integer index beginning at `start`.\n",
      "  return get_prediction_index(\n",
      "/opt/anaconda3/envs/datascience/lib/python3.12/site-packages/statsmodels/tsa/base/tsa_model.py:837: ValueWarning: No supported index is available. Prediction results will be given with an integer index beginning at `start`.\n",
      "  return get_prediction_index(\n"
     ]
    }
   ],
   "source": [
    "# Predict price for the next time period (Maybe two Timestamps)\n",
    "stock_forecast_0 = fitted_model_0.forecast(steps=len(test))\n",
    "stock_forecast_1 = fitted_model_1.forecast(steps=len(test))\n",
    "stock_forecast_2 = fitted_model_2.forecast(steps=len(test))\n",
    "\n",
    "# test_results = pd.DataFrame(columns=[\"test\", \"test_forecast\"])\n",
    "# test_results[\"test\"] = test\n",
    "# test_results[\"test_forecast\"] = stock_forecast\n",
    "\n",
    "# Generate forecasts for the test period\n",
    "# stock_forecast = fitted_model.forecast(steps=len(test))\n",
    "\n",
    "# Create DataFrame with test and forecast values\n",
    "test_results = pd.DataFrame(\n",
    "    {\"test\": test, \n",
    "    \"test_forecast_0\": stock_forecast_0.iloc[0],\n",
    "    \"test_forecast_1\": stock_forecast_1.iloc[0],\n",
    "    \"test_forecast_2\": stock_forecast_2.iloc[0]\n",
    "    }, index=test.index\n",
    ")"
   ]
  },
  {
   "cell_type": "code",
   "execution_count": 45,
   "metadata": {},
   "outputs": [
    {
     "data": {
      "image/png": "[encoded data removed]",
      "text/plain": [
       "<Figure size 1200x600 with 1 Axes>"
      ]
     },
     "metadata": {
      "image/png": {
       "height": 526,
       "width": 990
      }
     },
     "output_type": "display_data"
    }
   ],
   "source": [
    "# Plot actual vs predicted values\n",
    "fig, ax = plt.subplots(figsize=(12, 6))\n",
    "test_results[\"test\"].plot(label=\"Actual\", ax=ax)\n",
    "test_results[\"test_forecast_0\"].plot(label=\"Forecast_0\", ax=ax, style=\"--\", color=\"blue\")\n",
    "test_results[\"test_forecast_1\"].plot(label=\"Forecast_1\", ax=ax, style=\"--\", color=\"green\")\n",
    "test_results[\"test_forecast_2\"].plot(label=\"Forecast_2\", ax=ax, style=\"--\", color=\"yellow\")\n",
    "\n",
    "plt.title(\"ARIMA Forecast vs Actual Values\")\n",
    "plt.legend()\n",
    "plt.show()\n",
    "\n",
    "# test_results.plot();"
   ]
  },
  {
   "cell_type": "code",
   "execution_count": 46,
   "metadata": {},
   "outputs": [
    {
     "name": "stderr",
     "output_type": "stream",
     "text": [
      "/opt/anaconda3/envs/datascience/lib/python3.12/site-packages/pmdarima/arima/auto.py:444: UserWarning: Input time-series is completely constant; returning a (0, 0, 0) ARMA.\n",
      "  warnings.warn('Input time-series is completely constant; '\n"
     ]
    }
   ],
   "source": [
    "from pmdarima.arima import auto_arima\n",
    "\n",
    "automatic = auto_arima(\n",
    "    test,\n",
    "    X=None,\n",
    "    start_p=2,\n",
    "    d=None,\n",
    "    start_q=2,\n",
    "    max_p=p+1,\n",
    "    max_d=2,\n",
    "    max_q=q+1,\n",
    "    start_P=1,\n",
    "    D=None,\n",
    "    start_Q=1,\n",
    "    max_P=2,\n",
    "    max_D=1,\n",
    "    max_Q=2,\n",
    "    max_order=5,\n",
    "    m=1,\n",
    "    seasonal=True,\n",
    "    stationary=False,\n",
    "    information_criterion=\"hqic\",\n",
    "    alpha=0.05,\n",
    "    test=\"adf\",\n",
    "    seasonal_test=\"ocsb\",\n",
    "    stepwise=True,\n",
    "    n_jobs=1,\n",
    "    start_params=None,\n",
    "    trend=None,\n",
    "    method=\"lbfgs\",\n",
    "    maxiter=50,\n",
    "    offset_test_args=None,\n",
    "    seasonal_test_args=None,\n",
    "    suppress_warnings=True,\n",
    "    error_action=\"trace\",\n",
    "    trace=False,\n",
    "    random=False,\n",
    "    random_state=None,\n",
    "    n_fits=10,\n",
    "    return_valid_fits=False,\n",
    "    out_of_sample_size=0,\n",
    "    scoring=\"mse\",\n",
    "    scoring_args=None,\n",
    "    with_intercept=\"auto\",\n",
    "    sarimax_kwargs=None)\n"
   ]
  },
  {
   "cell_type": "code",
   "execution_count": 47,
   "metadata": {},
   "outputs": [
    {
     "data": {
      "text/plain": [
       "<Axes: xlabel='Datetime'>"
      ]
     },
     "execution_count": 47,
     "metadata": {},
     "output_type": "execute_result"
    },
    {
     "data": {
      "image/png": "[encoded data removed]",
      "text/plain": [
       "<Figure size 640x480 with 1 Axes>"
      ]
     },
     "metadata": {
      "image/png": {
       "height": 419,
       "width": 543
      }
     },
     "output_type": "display_data"
    }
   ],
   "source": [
    "automatic.fit(train)\n",
    "# pm_test_pred, confs = automatic.predict(n_periods=len(test), return_conf_int=True)\n",
    "automatic.predict_in_sample().plot()\n",
    "train.plot()\n"
   ]
  },
  {
   "cell_type": "code",
   "execution_count": 48,
   "metadata": {},
   "outputs": [
    {
     "name": "stderr",
     "output_type": "stream",
     "text": [
      "/opt/anaconda3/envs/datascience/lib/python3.12/site-packages/statsmodels/tsa/base/tsa_model.py:837: ValueWarning: No supported index is available. Prediction results will be given with an integer index beginning at `start`.\n",
      "  return get_prediction_index(\n"
     ]
    },
    {
     "data": {
      "image/png": "[encoded data removed]",
      "text/plain": [
       "<Figure size 1200x600 with 1 Axes>"
      ]
     },
     "metadata": {
      "image/png": {
       "height": 526,
       "width": 1002
      }
     },
     "output_type": "display_data"
    },
    {
     "data": {
      "text/plain": [
       "<Figure size 640x480 with 0 Axes>"
      ]
     },
     "metadata": {},
     "output_type": "display_data"
    }
   ],
   "source": [
    "auto_forecast = automatic.predict(y=test, n_periods=len(test))\n",
    "auto_forecast.index = test.index\n",
    "auto_test_results = pd.DataFrame(\n",
    "    {\"test\": test, \n",
    "    \"forecast\": auto_forecast}, index=test.index\n",
    ")\n",
    "\n",
    "# Plot actual vs predicted values\n",
    "fig, ax = plt.subplots(figsize=(12, 6))\n",
    "auto_test_results[\"test\"].plot(label=\"Actual\", ax=ax)\n",
    "auto_test_results[\"forecast\"].plot(label=\"Forecast\", ax=ax, style=\"--\", color=\"blue\")\n",
    "\n",
    "plt.title(\"AUTOARIMA Forecast vs Actual Values\")\n",
    "plt.legend()\n",
    "plt.show()\n",
    "plt.tight_layout();"
   ]
  },
  {
   "cell_type": "code",
   "execution_count": 49,
   "metadata": {},
   "outputs": [
    {
     "name": "stderr",
     "output_type": "stream",
     "text": [
      "16:02:00 - cmdstanpy - INFO - Chain [1] start processing\n",
      "16:02:00 - cmdstanpy - INFO - Chain [1] done processing\n"
     ]
    },
    {
     "ename": "ValueError",
     "evalue": "Dataframe has no rows.",
     "output_type": "error",
     "traceback": [
      "\u001b[31m---------------------------------------------------------------------------\u001b[39m",
      "\u001b[31mValueError\u001b[39m                                Traceback (most recent call last)",
      "\u001b[36mCell\u001b[39m\u001b[36m \u001b[39m\u001b[32mIn[49]\u001b[39m\u001b[32m, line 25\u001b[39m\n\u001b[32m     22\u001b[39m future[\u001b[33m'\u001b[39m\u001b[33mds\u001b[39m\u001b[33m'\u001b[39m] = pd.to_datetime(future[\u001b[33m'\u001b[39m\u001b[33mds\u001b[39m\u001b[33m'\u001b[39m])  \u001b[38;5;66;03m# Ensure 'ds' is datetime\u001b[39;00m\n\u001b[32m     23\u001b[39m future[\u001b[33m'\u001b[39m\u001b[33mds\u001b[39m\u001b[33m'\u001b[39m] = future[\u001b[33m'\u001b[39m\u001b[33mds\u001b[39m\u001b[33m'\u001b[39m].dt.tz_localize(\u001b[38;5;28;01mNone\u001b[39;00m)\n\u001b[32m---> \u001b[39m\u001b[32m25\u001b[39m forecast = \u001b[43mm\u001b[49m\u001b[43m.\u001b[49m\u001b[43mpredict\u001b[49m\u001b[43m(\u001b[49m\u001b[43mfuture\u001b[49m\u001b[43m)\u001b[49m\n\u001b[32m     27\u001b[39m \u001b[38;5;66;03m# Extract the forecast values and store them\u001b[39;00m\n\u001b[32m     28\u001b[39m forecast = pd.Series(forecast[\u001b[33m'\u001b[39m\u001b[33myhat\u001b[39m\u001b[33m'\u001b[39m].values, index=test.index)\n",
      "\u001b[36mFile \u001b[39m\u001b[32m/opt/anaconda3/envs/datascience/lib/python3.12/site-packages/prophet/forecaster.py:1269\u001b[39m, in \u001b[36mProphet.predict\u001b[39m\u001b[34m(self, df, vectorized)\u001b[39m\n\u001b[32m   1267\u001b[39m \u001b[38;5;28;01melse\u001b[39;00m:\n\u001b[32m   1268\u001b[39m     \u001b[38;5;28;01mif\u001b[39;00m df.shape[\u001b[32m0\u001b[39m] == \u001b[32m0\u001b[39m:\n\u001b[32m-> \u001b[39m\u001b[32m1269\u001b[39m         \u001b[38;5;28;01mraise\u001b[39;00m \u001b[38;5;167;01mValueError\u001b[39;00m(\u001b[33m'\u001b[39m\u001b[33mDataframe has no rows.\u001b[39m\u001b[33m'\u001b[39m)\n\u001b[32m   1270\u001b[39m     df = \u001b[38;5;28mself\u001b[39m.setup_dataframe(df.copy())\n\u001b[32m   1272\u001b[39m df[\u001b[33m'\u001b[39m\u001b[33mtrend\u001b[39m\u001b[33m'\u001b[39m] = \u001b[38;5;28mself\u001b[39m.predict_trend(df)\n",
      "\u001b[31mValueError\u001b[39m: Dataframe has no rows."
     ]
    }
   ],
   "source": [
    "from prophet import Prophet\n",
    "import pandas as pd\n",
    "import matplotlib.pyplot as plt\n",
    "\n",
    "# Initialize and fit Prophet model\n",
    "m = Prophet(yearly_seasonality=True, \n",
    "           weekly_seasonality=True, \n",
    "           daily_seasonality=True)\n",
    "\n",
    "# Prepare training data for Prophet\n",
    "prophet_train = train.reset_index()\n",
    "prophet_train.columns = [\"ds\", \"y\"]\n",
    "\n",
    "# Remove timezone information from the 'ds' column\n",
    "prophet_train['ds'] = prophet_train['ds'].dt.tz_localize(None)\n",
    "\n",
    "m.fit(prophet_train)\n",
    "\n",
    "# Create future dataframe with test dates\n",
    "if not test.empty:\n",
    "    future = pd.DataFrame(test.index, columns=['ds'])\n",
    "    future['ds'] = pd.to_datetime(future['ds'])  # Ensure 'ds' is datetime\n",
    "    future['ds'] = future['ds'].dt.tz_localize(None)\n",
    "\n",
    "    forecast = m.predict(future)\n",
    "\n",
    "    # Extract the forecast values and store them\n",
    "    forecast = pd.Series(forecast['yhat'].values, index=test.index)\n",
    "\n",
    "    # Plot the results\n",
    "    fig, ax = plt.subplots(figsize=(12, 6))\n",
    "    plt.plot(test.index, test.values, label='Test Data', color='red')\n",
    "    plt.plot(test.index, forecast.values, label='Prophet Forecast', color='blue', linestyle='--')\n",
    "    plt.title('Prophet Model: Actual vs Predicted')\n",
    "    plt.legend(loc='best')\n",
    "    plt.tight_layout()\n",
    "\n",
    "    # Store Prophet forecast in test_results for RMSE calculation\n",
    "    test_results['prophet_forecast'] = forecast\n",
    "else:\n",
    "    print(\"Test DataFrame is empty. Cannot generate forecast.\")\n",
    "    forecast = pd.Series()  # Assign an empty series\n"
   ]
  },
  {
   "cell_type": "markdown",
   "metadata": {},
   "source": [
    "# Results"
   ]
  },
  {
   "cell_type": "code",
   "execution_count": null,
   "metadata": {},
   "outputs": [],
   "source": [
    "print(\"The d = 0 root mean squared error is: \", root_mean_squared_error(test_results[\"test\"], test_results[\"test_forecast_0\"]))\n",
    "print(\"The d = 1 root mean squared error is: \", root_mean_squared_error(test_results[\"test\"], test_results[\"test_forecast_1\"]))\n",
    "print(\"The d = 2 root mean squared error is: \", root_mean_squared_error(test_results[\"test\"], test_results[\"test_forecast_2\"]))\n",
    "print(\"The auto ARIMA root mean squared error is: \", root_mean_squared_error(auto_test_results[\"test\"], auto_test_results[\"forecast\"]))\n",
    "print(\"The Prophet root mean squared error is: \", root_mean_squared_error(test_results[\"test\"], forecast))\n",
    "print(f\"The max p is {p+1}\")\n",
    "print(f\"The max q is {q+1}\")"
   ]
  },
  {
   "cell_type": "code",
   "execution_count": null,
   "metadata": {},
   "outputs": [],
   "source": [
    "# Save timestamp, prediction and actual price to a database"
   ]
  }
 ],
 "metadata": {
  "kernelspec": {
   "display_name": "datascience",
   "language": "python",
   "name": "python3"
  },
  "language_info": {
   "codemirror_mode": {
    "name": "ipython",
    "version": 3
   },
   "file_extension": ".py",
   "mimetype": "text/x-python",
   "name": "python",
   "nbconvert_exporter": "python",
   "pygments_lexer": "ipython3",
   "version": "3.12.2"
  }
 },
 "nbformat": 4,
 "nbformat_minor": 2
}
