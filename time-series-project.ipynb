{
 "cells": [
  {
   "cell_type": "markdown",
   "metadata": {},
   "source": [
    "\n",
    "# time-series-project\n",
    "\n",
    "1. Install yahoo finance library (yfinance)\n",
    "2. Retrieve stock price data\n",
    "3. Choose any ticker symbol and you can choose “Open” or “Close” price for this project<sup>[1](#myfootnote1)</sup> <sup>[2](#myfootnote2)</sup>\n",
    "4. Analyse time series<sup>[3](#myfootnote3)</sup>\n",
    "5. Check for seasonality\n",
    "6. Train time series model\n",
    "7. Find the best hyperparameter values of (P, D, Q) with the smallest RMSE for building an ARIMA model<sup>[4](#myfootnote4)</sup>\n",
    "8. Predict price for the next time period (Maybe two Timestamps)\n",
    "9. Save timestamp, prediction and actual price to a database\n",
    "\n",
    "❗ BONUS: Deploy your model to Streamlit.  \n",
    "a. The app should pull fresh data from the web through yfinance  \n",
    "b. The user should be able to define a forecasting window (how far ahead they want the forecast)  \n",
    "\n",
    "❗❗ Extra Super Hard BONUS!! Allow the user to choose the ticker symbol to look up and get predictions for.   \n",
    "HINT: you'll need to refit the model. This may be hard without determining again the P, D, and Q\n",
    "\n",
    "<a name=\"myfootnote1\">1</a>: The program should only run between 8am and 4pm ET  \n",
    "<a name=\"myfootnote2\">2</a>: The data period and interval should be 1 year and 1 hour respectively  \n",
    "<a name=\"myfootnote3\">3</a>: Choose the last 50 records as your test data for the purpose of saving time  \n",
    "<a name=\"myfootnote4\">4</a>: Please set the hyperparameter values of (P, D, Q) within these ranges also for the purpose of saving time: For “P”: 1 ≦ P ≦ 3 For “D”: 0 ≦ D ≦ 2 For “Q”: 0 ≦ Q ≦ 2\n"
   ]
  },
  {
   "cell_type": "code",
   "execution_count": null,
   "metadata": {},
   "outputs": [],
   "source": []
  }
 ],
 "metadata": {
  "kernelspec": {
   "display_name": "datascience",
   "language": "python",
   "name": "python3"
  },
  "language_info": {
   "name": "python",
   "version": "3.12.2"
  }
 },
 "nbformat": 4,
 "nbformat_minor": 2
}
